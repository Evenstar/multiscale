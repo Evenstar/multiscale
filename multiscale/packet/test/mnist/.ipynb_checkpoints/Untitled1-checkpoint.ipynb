{
 "metadata": {
  "name": "",
  "signature": "sha256:bb77690c694240897ccae2238b34ce0cf133bcfe5a739febf7bde4ebd485e9bc"
 },
 "nbformat": 3,
 "nbformat_minor": 0,
 "worksheets": []
}